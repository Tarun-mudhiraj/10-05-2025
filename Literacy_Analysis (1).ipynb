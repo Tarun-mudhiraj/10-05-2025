{
  "nbformat": 4,
  "nbformat_minor": 0,
  "metadata": {
    "colab": {
      "provenance": []
    },
    "kernelspec": {
      "name": "python3",
      "display_name": "Python 3"
    },
    "language_info": {
      "name": "python"
    }
  },
  "cells": [
    {
      "cell_type": "code",
      "execution_count": null,
      "metadata": {
        "id": "LQinmo4GLMhU"
      },
      "outputs": [],
      "source": [
        "# ---------------------\n",
        "# Step 1: Import Libraries\n",
        "# ---------------------\n",
        "# Import necessary libraries: requests, BeautifulSoup, pandas, matplotlib/seaborn.\n",
        "\n",
        "# ---------------------\n",
        "# Step 2: Request Data\n",
        "# ---------------------\n",
        "# Make an HTTP GET request to the Wikipedia URL containing the age-wise literacy data.\n",
        "\n",
        "# ---------------------\n",
        "# Step 3: Parse the HTML\n",
        "# ---------------------\n",
        "# Use BeautifulSoup to parse the page.\n",
        "# Locate the specific table that includes age-wise literacy rates by country.\n",
        "\n",
        "# ---------------------\n",
        "# Step 4: Extract Data from Table\n",
        "# ---------------------\n",
        "# For each country, extract columns such as:\n",
        "# - Country Name\n",
        "# - Year\n",
        "# - Total Literacy Rate\n",
        "# - Youth Literacy Rate\n",
        "# - Adult Literacy Rate\n",
        "# - Elderly Literacy Rate (if present)\n",
        "# Ensure column consistency and handle missing values appropriately.\n",
        "\n",
        "# ---------------------\n",
        "# Step 5: Save Data to CSV\n",
        "# ---------------------\n",
        "# Store the structured data in a CSV file with proper headers.\n",
        "\n",
        "# ---------------------\n",
        "# Step 6: Load CSV for Analysis\n",
        "# ---------------------\n",
        "# Read the CSV using pandas and verify data integrity (data types, null values).\n",
        "\n",
        "# ---------------------\n",
        "# Step 7: Data Cleaning\n",
        "# ---------------------\n",
        "# Clean the data:\n",
        "# - Convert percentages to numeric format.\n",
        "# - Handle null or inconsistent values.\n",
        "# - Filter out rows with missing 'Total Literacy Rate' or Year.\n",
        "\n",
        "# ---------------------\n",
        "# Step 8: Univariate Analysis\n",
        "# ---------------------\n",
        "# Analyze individual literacy metrics:\n",
        "# - Distribution of total literacy rates\n",
        "# - Compare youth vs adult vs elderly literacy rates globally\n",
        "# - Use histograms, boxplots\n",
        "\n",
        "# ---------------------\n",
        "# Step 9: Bivariate Analysis\n",
        "# ---------------------\n",
        "# Explore relationships such as:\n",
        "# - Youth vs Adult literacy rate (scatterplot)\n",
        "# - Literacy rate vs year (line plots or trends if historical)\n",
        "# - Total vs elderly literacy rate to explore generational shifts\n",
        "\n",
        "# ---------------------\n",
        "# Step 10: Grouped Analysis\n",
        "# ---------------------\n",
        "# Optional: Map countries to continents/regions manually or via a lookup.\n",
        "# - Compare regional averages for each age group.\n",
        "# - Highlight global trends by region.\n",
        "\n",
        "# ---------------------\n",
        "# Step 11: Descriptive Statistics\n",
        "# ---------------------\n",
        "# Calculate mean, median, std. deviation for each literacy category (youth, adult, elderly).\n",
        "# Identify countries with literacy gaps between age groups.\n",
        "\n",
        "# ---------------------\n",
        "# Step 12: Define & Answer Key Questions\n",
        "# ---------------------\n",
        "# Use visualizations and analysis to answer:\n",
        "\n",
        "# 1. Which countries have the highest and lowest total literacy rates?\n",
        "# 2. Which countries have the largest gaps between youth and elderly literacy rates?\n",
        "# 3. What is the global average youth literacy rate?\n",
        "# 4. Are countries improving literacy over time? (if historical data exists)\n",
        "# 5. Which countries have high youth literacy but low elderly literacy?\n",
        "# 6. Are there countries with uniformly high literacy across all age groups?\n",
        "# 7. What age group has the most variation in literacy across countries?\n",
        "\n",
        "# ---------------------\n",
        "# Step 13: Visualizations\n",
        "# ---------------------\n",
        "# Create plots:\n",
        "# - Bar chart: Top 10 countries by youth literacy\n",
        "# - Boxplot: Literacy rate by age group\n",
        "# - Scatter plot: Youth vs Elderly literacy\n",
        "# - Heatmap (optional): Literacy rates across age groups by region\n",
        "\n",
        "# ---------------------\n",
        "# Step 14: Summary of Insights\n",
        "# ---------------------\n",
        "# Write your interpretations based on the visualizations.\n",
        "# Discuss countries doing well, those lagging behind, and age groups needing focus.\n",
        "\n",
        "# ---------------------\n",
        "# Step 15: Save Results\n",
        "# ---------------------\n",
        "# Save your CSV and visualizations for final submission."
      ]
    },
    {
      "cell_type": "code",
      "source": [
        "import requests\n",
        "from bs4 import BeautifulSoup\n",
        "import pandas as pd\n",
        "import matplotlib.pyplot as plt\n",
        "import seaborn as sns\n"
      ],
      "metadata": {
        "id": "IXmCdrAOWgoY"
      },
      "execution_count": 1,
      "outputs": []
    },
    {
      "cell_type": "code",
      "source": [
        "url = \"https://en.wikipedia.org/wiki/List_of_countries_by_literacy_rate\"\n",
        "response = requests.get(url)\n",
        "soup = BeautifulSoup(response.text, \"html.parser\")"
      ],
      "metadata": {
        "id": "AGL2xyx-Wwur"
      },
      "execution_count": 3,
      "outputs": []
    },
    {
      "cell_type": "code",
      "source": [
        "tables = soup.find_all(\"table\", {\"class\": \"wikitable\"})\n",
        "\n",
        "# Try to find the correct table by looking for keywords\n",
        "target_table = None\n",
        "for table in tables:\n",
        "    if \"Literacy rate\" in table.text and \"Country\" in table.text:\n",
        "        target_table = table\n",
        "        break"
      ],
      "metadata": {
        "id": "2X3lCl36W3h7"
      },
      "execution_count": 4,
      "outputs": []
    },
    {
      "cell_type": "code",
      "source": [
        "data = []\n",
        "if target_table:\n",
        "    rows = target_table.find_all(\"tr\")\n",
        "    headers = [header.text.strip() for header in rows[0].find_all([\"th\", \"td\"])]\n",
        "    for row in rows[1:]:\n",
        "        cols = [col.text.strip() for col in row.find_all([\"td\", \"th\"])]\n",
        "        if len(cols) >= 4:\n",
        "            country = cols[0]\n",
        "            year = cols[1]\n",
        "            total = cols[2]\n",
        "            male = cols[3] if len(cols) > 3 else None\n",
        "            female = cols[4] if len(cols) > 4 else None\n",
        "            data.append([country, year, total, male, female])\n",
        "\n",
        "df = pd.DataFrame(data, columns=[\"Country\", \"Year\", \"Total Literacy Rate\", \"Male Literacy Rate\", \"Female Literacy Rate\"])"
      ],
      "metadata": {
        "id": "3xdtWAGuW69r"
      },
      "execution_count": 5,
      "outputs": []
    },
    {
      "cell_type": "code",
      "source": [
        "df.to_csv(\"literacy_data_raw.csv\", index=False)"
      ],
      "metadata": {
        "id": "wwCzioF0XYEt"
      },
      "execution_count": 6,
      "outputs": []
    },
    {
      "cell_type": "code",
      "source": [
        "df = pd.read_csv(\"literacy_data_raw.csv\")"
      ],
      "metadata": {
        "id": "HcS8VRawXZnD"
      },
      "execution_count": 7,
      "outputs": []
    },
    {
      "cell_type": "code",
      "source": [
        "for col in [\"Total Literacy Rate\", \"Male Literacy Rate\", \"Female Literacy Rate\"]:\n",
        "    df[col] = df[col].str.replace(\"%\", \"\").str.replace(\"—\", \"\").str.strip()\n",
        "    df[col] = pd.to_numeric(df[col], errors=\"coerce\")\n",
        "\n",
        "df[\"Year\"] = pd.to_numeric(df[\"Year\"], errors=\"coerce\")\n",
        "df.dropna(subset=[\"Total Literacy Rate\", \"Year\"], inplace=True)"
      ],
      "metadata": {
        "id": "gGvvNnMRXdwU"
      },
      "execution_count": 8,
      "outputs": []
    },
    {
      "cell_type": "code",
      "source": [
        "plt.figure(figsize=(10, 6))\n",
        "sns.histplot(df[\"Total Literacy Rate\"], bins=20, kde=True)\n",
        "plt.title(\"Distribution of Total Literacy Rate\")\n",
        "plt.xlabel(\"Literacy Rate (%)\")\n",
        "plt.ylabel(\"Frequency\")\n",
        "plt.savefig(\"total_literacy_distribution.png\")\n",
        "plt.close()"
      ],
      "metadata": {
        "id": "NwCG8iUCXio0"
      },
      "execution_count": 12,
      "outputs": []
    },
    {
      "cell_type": "code",
      "source": [
        "plt.figure(figsize=(10, 6))\n",
        "sns.scatterplot(data=df, x=\"Male Literacy Rate\", y=\"Female Literacy Rate\")\n",
        "plt.title(\"Male vs Female Literacy Rate\")\n",
        "plt.xlabel(\"Male Literacy Rate (%)\")\n",
        "plt.ylabel(\"Female Literacy Rate (%)\")\n",
        "plt.savefig(\"male_vs_female_literacy.png\")\n",
        "plt.close()"
      ],
      "metadata": {
        "id": "RbIJYwbJX9ng"
      },
      "execution_count": 13,
      "outputs": []
    },
    {
      "cell_type": "code",
      "source": [
        "stats = df.describe()\n",
        "stats.to_csv(\"literacy_statistics.csv\")"
      ],
      "metadata": {
        "id": "dOQLvwoSYCbO"
      },
      "execution_count": 14,
      "outputs": []
    },
    {
      "cell_type": "code",
      "source": [
        "highest = df[df[\"Total Literacy Rate\"] == df[\"Total Literacy Rate\"].max()]\n",
        "lowest = df[df[\"Total Literacy Rate\"] == df[\"Total Literacy Rate\"].min()]\n",
        "global_avg_youth = df[\"Total Literacy Rate\"].mean()\n",
        "\n",
        "print(\"Highest Literacy Rate Country:\\n\", highest)\n",
        "print(\"Lowest Literacy Rate Country:\\n\", lowest)\n",
        "print(\"Global Average Literacy Rate: {:.2f}%\".format(global_avg_youth))"
      ],
      "metadata": {
        "id": "1NbVXB3AYFn2",
        "outputId": "4f21092c-a094-4be5-d4d4-7c6b923c675c",
        "colab": {
          "base_uri": "https://localhost:8080/"
        }
      },
      "execution_count": 15,
      "outputs": [
        {
          "output_type": "stream",
          "name": "stdout",
          "text": [
            "Highest Literacy Rate Country:\n",
            " Empty DataFrame\n",
            "Columns: [Country, Year, Total Literacy Rate, Male Literacy Rate, Female Literacy Rate]\n",
            "Index: []\n",
            "Lowest Literacy Rate Country:\n",
            " Empty DataFrame\n",
            "Columns: [Country, Year, Total Literacy Rate, Male Literacy Rate, Female Literacy Rate]\n",
            "Index: []\n",
            "Global Average Literacy Rate: nan%\n"
          ]
        }
      ]
    },
    {
      "cell_type": "code",
      "source": [
        "top_10 = df.sort_values(\"Total Literacy Rate\", ascending=False).head(10)\n",
        "plt.figure(figsize=(12, 6))\n",
        "sns.barplot(data=top_10, x=\"Country\", y=\"Total Literacy Rate\")\n",
        "plt.xticks(rotation=45)\n",
        "plt.title(\"Top 10 Countries by Total Literacy Rate\")\n",
        "plt.savefig(\"top_10_total_literacy.png\")\n",
        "plt.close()"
      ],
      "metadata": {
        "id": "g_67SzU1YISc"
      },
      "execution_count": 16,
      "outputs": []
    },
    {
      "cell_type": "code",
      "source": [
        "summary = \"\"\n",
        "\n",
        "if not highest.empty:\n",
        "    top_country = f\"{highest.iloc[0]['Country']} - {highest.iloc[0]['Total Literacy Rate']}%\"\n",
        "else:\n",
        "    top_country = \"No data available\"\n",
        "\n",
        "if not lowest.empty:\n",
        "    bottom_country = f\"{lowest.iloc[0]['Country']} - {lowest.iloc[0]['Total Literacy Rate']}%\"\n",
        "else:\n",
        "    bottom_country = \"No data available\"\n",
        "\n",
        "summary = f\"\"\"\n",
        "Top Country: {top_country}\n",
        "Bottom Country: {bottom_country}\n",
        "Global Average Literacy: {global_avg_youth:.2f}%\n",
        "\"\"\"\n",
        "\n",
        "with open(\"literacy_summary.txt\", \"w\") as f:\n",
        "    f.write(summary)"
      ],
      "metadata": {
        "id": "KerDQk5XYOy-"
      },
      "execution_count": 19,
      "outputs": []
    },
    {
      "cell_type": "code",
      "source": [
        "df.to_csv(\"literacy_data_cleaned.csv\", index=False)"
      ],
      "metadata": {
        "id": "yGabN-NGYyC1"
      },
      "execution_count": 22,
      "outputs": []
    },
    {
      "cell_type": "code",
      "source": [
        "cleaned = pd.read_csv(\"literacy_data_cleaned.csv\")\n",
        "cleaned[\"_Section_\"] = \"Cleaned Data\"\n",
        "stats = pd.read_csv(\"literacy_statistics.csv\")\n",
        "stats[\"_Section_\"] = \"Statistics\"\n",
        "summary_df = pd.DataFrame({\n",
        "    \"Country\": [\"Summary\"],\n",
        "    \"Year\": [\"\"],\n",
        "    \"Total Literacy Rate\": [global_avg_youth],\n",
        "    \"Male Literacy Rate\": [\"\"],\n",
        "    \"Female Literacy Rate\": [\"\"],\n",
        "    \"_Section_\": [\"Summary\"]\n",
        "})\n",
        "combined = pd.concat([\n",
        "    cleaned[[\"Country\", \"Year\", \"Total Literacy Rate\", \"Male Literacy Rate\", \"Female Literacy Rate\", \"_Section_\"]],\n",
        "    stats.rename(columns={\"Unnamed: 0\": \"Country\"}).reindex(columns=[\"Country\", \"Year\", \"Total Literacy Rate\", \"Male Literacy Rate\", \"Female Literacy Rate\", \"_Section_\"]),\n",
        "    summary_df\n",
        "], ignore_index=True)\n",
        "combined.to_csv(\"literacy_full_combined.csv\", index=False)"
      ],
      "metadata": {
        "id": "a7cev670dygL",
        "outputId": "dd703f77-d88a-4a10-83a5-ea1835533e4e",
        "colab": {
          "base_uri": "https://localhost:8080/"
        }
      },
      "execution_count": 24,
      "outputs": [
        {
          "output_type": "stream",
          "name": "stderr",
          "text": [
            "<ipython-input-24-1f0968113e4a>:13: FutureWarning: The behavior of DataFrame concatenation with empty or all-NA entries is deprecated. In a future version, this will no longer exclude empty or all-NA columns when determining the result dtypes. To retain the old behavior, exclude the relevant entries before the concat operation.\n",
            "  combined = pd.concat([\n"
          ]
        }
      ]
    }
  ]
}